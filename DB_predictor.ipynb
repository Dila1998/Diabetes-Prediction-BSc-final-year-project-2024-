{
  "cells": [
    {
      "cell_type": "markdown",
      "metadata": {
        "id": "view-in-github",
        "colab_type": "text"
      },
      "source": [
        "<a href=\"https://colab.research.google.com/github/Dila1998/Diabetes-Prediction-BSc-final-year-project-2024-/blob/main/DB_predictor.ipynb\" target=\"_parent\"><img src=\"https://colab.research.google.com/assets/colab-badge.svg\" alt=\"Open In Colab\"/></a>"
      ]
    },
    {
      "cell_type": "code",
      "execution_count": null,
      "id": "bc352a92",
      "metadata": {
        "id": "bc352a92"
      },
      "outputs": [],
      "source": [
        "# import Libraries\n",
        "import matplotlib.pyplot as plt\n",
        "import numpy as np\n",
        "import pandas as pd\n",
        "import seaborn as sns\n",
        "import pickle\n",
        "from IPython.display import display\n",
        "from matplotlib import pyplot\n",
        "from pandas.plotting import scatter_matrix\n",
        "from sklearn import linear_model, metrics, model_selection\n",
        "from sklearn.ensemble import RandomForestClassifier\n",
        "from sklearn.linear_model import LogisticRegression\n",
        "from sklearn.metrics import (\n",
        "    ConfusionMatrixDisplay,\n",
        "    accuracy_score,\n",
        "    classification_report,\n",
        "    confusion_matrix,\n",
        ")\n",
        "from sklearn.model_selection import KFold, cross_val_score, train_test_split"
      ]
    },
    {
      "cell_type": "code",
      "execution_count": null,
      "id": "3aa83a79",
      "metadata": {
        "id": "3aa83a79"
      },
      "outputs": [],
      "source": [
        "import joblib\n",
        "\n",
        "# Save the model to a file\n",
        "#joblib.dump(mylog_model, 'diabetes-classifier-log_model.pkl')\n",
        "\n",
        "# Later, load the model from the file with the following:\n",
        "mylog_model = joblib.load('DB_pre_model.pkl')"
      ]
    },
    {
      "cell_type": "code",
      "execution_count": null,
      "id": "7b37c400",
      "metadata": {
        "scrolled": false,
        "colab": {
          "referenced_widgets": [
            "3d838424677a4d4695e2ae15373cd27a",
            "a0c3ae4a3e5a4af1bece7bd47a3311f1",
            "029f01901445423d893a318a24812132",
            "c05caa0a83944c5786b2d8f3e1de30e6",
            "474631c510b44e79a5fe15afc47805c6",
            "ccf011b6e7cc4ecd800f2c14fdfa8623",
            "3c5bfbeeffac4acd9ec1bc2ef3286049",
            "9b079117a2f34af5bd3cf95df5c06bb4",
            "cf715b1bedc24fc58304aeca55c791ff",
            "1b1c5ca97d824dfbb3da3b2806f0a707",
            "bd8a11b9e4cf4ef9b2e6a1801752a466",
            "5103baf751b647bbb78380a6774b8f07",
            "7526feb6e5274cf799f654202fd4881a",
            "0bc1f8304e074a9f9df3bc71ad680ed7",
            "5e4cbf7450a046639591de45dc49a80a",
            "feb3dd4d485c4b71a33572d36dd2f907",
            "fab973ef590746bfbf14158f1ae83e77",
            "8ac59c37e3eb41849b0750170f9a9efa",
            "cbbd761edff545b9bc406a84d7f60fa1",
            "a168c6ba926f499280dd08e2e774e7b4",
            "e4f383f93c6e4c6d8b5b7672132219cf",
            "abe211aeac594fe496ba9c7b7fc7ec33",
            "108e7fa9daf24aebaeeb3165a36b7936",
            "779c0ace376946539e0a843ee666b5d8",
            "34be4a575d3c42fab1cb726f2411bde7",
            "a588fced3f1141fe9a1d756674b91765",
            "3331ba8943ee4d388cac45bbfff8237b",
            "9e0a6e30dc464a508ecd47189d2c143f",
            "207339d2dcf7457c8e31531b63dcd9e9",
            "08afcf50856f4308b04505eb01646040",
            "e35aa178d85143b69b8c7c755fa32af2",
            "af994828813c415babf59f63288a03a0",
            "c763c015772047a28e7ad6f414b83e82",
            "046bd1b9b6fd429283bedc15adf8f57a",
            "4384d2bb27594bb1b502d51cbfc5179a",
            "aefee56cc26d457ab44f2b5488a0597e",
            "b9406ca71a0948e7896cb54024633f44",
            "d26cb7bfc62b4f8e8fef24c1a3cfab20",
            "ab6e51db618544acbbafad2b8d06c979",
            "d5aab9bfa9d14db5a1e78624bf1a3a08",
            "a9f19d9b481447499dcec323327afc19",
            "71475f45bc2f44239a25cd00a7075c70",
            "c424a56ab4f54c908c54daa5bb06e9db",
            "cc8744f50e2b411abd86616b4bfb35ee"
          ]
        },
        "id": "7b37c400",
        "outputId": "d9fc8163-21ae-4af0-9033-c18d32b79d09"
      },
      "outputs": [
        {
          "data": {
            "application/vnd.jupyter.widget-view+json": {
              "model_id": "3d838424677a4d4695e2ae15373cd27a",
              "version_major": 2,
              "version_minor": 0
            },
            "text/plain": [
              "Label(value='Sex:', layout=Layout(width='max-content'))"
            ]
          },
          "metadata": {},
          "output_type": "display_data"
        },
        {
          "data": {
            "application/vnd.jupyter.widget-view+json": {
              "model_id": "a0c3ae4a3e5a4af1bece7bd47a3311f1",
              "version_major": 2,
              "version_minor": 0
            },
            "text/plain": [
              "Dropdown(options=(('Female', 0), ('Male', 1)), value=0)"
            ]
          },
          "metadata": {},
          "output_type": "display_data"
        },
        {
          "data": {
            "application/vnd.jupyter.widget-view+json": {
              "model_id": "029f01901445423d893a318a24812132",
              "version_major": 2,
              "version_minor": 0
            },
            "text/plain": [
              "Label(value='Age category (1 = Age 18 - 24, 2 = Age 25 to 29, 3 = Age 30 to 34, 4 = Age 35 to 39, 5 = Age 40 t…"
            ]
          },
          "metadata": {},
          "output_type": "display_data"
        },
        {
          "data": {
            "application/vnd.jupyter.widget-view+json": {
              "model_id": "c05caa0a83944c5786b2d8f3e1de30e6",
              "version_major": 2,
              "version_minor": 0
            },
            "text/plain": [
              "FloatSlider(value=8.0, max=13.0, min=1.0, step=1.0)"
            ]
          },
          "metadata": {},
          "output_type": "display_data"
        },
        {
          "data": {
            "application/vnd.jupyter.widget-view+json": {
              "model_id": "474631c510b44e79a5fe15afc47805c6",
              "version_major": 2,
              "version_minor": 0
            },
            "text/plain": [
              "Label(value='Body Mass Index (BMI is less than 18.5= 1, BMI is 18.6 to 24.9= 2, BMI is 25.0 to 29.9= 3, 30.0 o…"
            ]
          },
          "metadata": {},
          "output_type": "display_data"
        },
        {
          "data": {
            "application/vnd.jupyter.widget-view+json": {
              "model_id": "ccf011b6e7cc4ecd800f2c14fdfa8623",
              "version_major": 2,
              "version_minor": 0
            },
            "text/plain": [
              "FloatSlider(value=1.0, max=4.0, min=1.0, step=1.0)"
            ]
          },
          "metadata": {},
          "output_type": "display_data"
        },
        {
          "data": {
            "application/vnd.jupyter.widget-view+json": {
              "model_id": "3c5bfbeeffac4acd9ec1bc2ef3286049",
              "version_major": 2,
              "version_minor": 0
            },
            "text/plain": [
              "Label(value='High Blood Pressure', layout=Layout(width='max-content'))"
            ]
          },
          "metadata": {},
          "output_type": "display_data"
        },
        {
          "data": {
            "application/vnd.jupyter.widget-view+json": {
              "model_id": "9b079117a2f34af5bd3cf95df5c06bb4",
              "version_major": 2,
              "version_minor": 0
            },
            "text/plain": [
              "RadioButtons(options={'No': 0, 'Yes': 1}, value=0)"
            ]
          },
          "metadata": {},
          "output_type": "display_data"
        },
        {
          "data": {
            "application/vnd.jupyter.widget-view+json": {
              "model_id": "cf715b1bedc24fc58304aeca55c791ff",
              "version_major": 2,
              "version_minor": 0
            },
            "text/plain": [
              "Label(value='High Cholesterol', layout=Layout(width='max-content'))"
            ]
          },
          "metadata": {},
          "output_type": "display_data"
        },
        {
          "data": {
            "application/vnd.jupyter.widget-view+json": {
              "model_id": "1b1c5ca97d824dfbb3da3b2806f0a707",
              "version_major": 2,
              "version_minor": 0
            },
            "text/plain": [
              "RadioButtons(options={'No': 0, 'Yes': 1}, value=0)"
            ]
          },
          "metadata": {},
          "output_type": "display_data"
        },
        {
          "data": {
            "application/vnd.jupyter.widget-view+json": {
              "model_id": "bd8a11b9e4cf4ef9b2e6a1801752a466",
              "version_major": 2,
              "version_minor": 0
            },
            "text/plain": [
              "Label(value='cholesterol check in 5 years', layout=Layout(width='max-content'))"
            ]
          },
          "metadata": {},
          "output_type": "display_data"
        },
        {
          "data": {
            "application/vnd.jupyter.widget-view+json": {
              "model_id": "5103baf751b647bbb78380a6774b8f07",
              "version_major": 2,
              "version_minor": 0
            },
            "text/plain": [
              "RadioButtons(options={'No': 0, 'Yes': 1}, value=0)"
            ]
          },
          "metadata": {},
          "output_type": "display_data"
        },
        {
          "data": {
            "application/vnd.jupyter.widget-view+json": {
              "model_id": "7526feb6e5274cf799f654202fd4881a",
              "version_major": 2,
              "version_minor": 0
            },
            "text/plain": [
              "Label(value='Have you smoked at least 100 cigarettes in your life?', layout=Layout(width='max-content'))"
            ]
          },
          "metadata": {},
          "output_type": "display_data"
        },
        {
          "data": {
            "application/vnd.jupyter.widget-view+json": {
              "model_id": "0bc1f8304e074a9f9df3bc71ad680ed7",
              "version_major": 2,
              "version_minor": 0
            },
            "text/plain": [
              "RadioButtons(options={'No': 0, 'Yes': 1}, value=0)"
            ]
          },
          "metadata": {},
          "output_type": "display_data"
        },
        {
          "data": {
            "application/vnd.jupyter.widget-view+json": {
              "model_id": "5e4cbf7450a046639591de45dc49a80a",
              "version_major": 2,
              "version_minor": 0
            },
            "text/plain": [
              "Label(value='Heavy drinkers (drinks <14 for men, <7 for women per week', layout=Layout(width='max-content'))"
            ]
          },
          "metadata": {},
          "output_type": "display_data"
        },
        {
          "data": {
            "application/vnd.jupyter.widget-view+json": {
              "model_id": "feb3dd4d485c4b71a33572d36dd2f907",
              "version_major": 2,
              "version_minor": 0
            },
            "text/plain": [
              "RadioButtons(options={'No': 0, 'Yes': 1}, value=0)"
            ]
          },
          "metadata": {},
          "output_type": "display_data"
        },
        {
          "data": {
            "application/vnd.jupyter.widget-view+json": {
              "model_id": "fab973ef590746bfbf14158f1ae83e77",
              "version_major": 2,
              "version_minor": 0
            },
            "text/plain": [
              "Label(value='(Ever told) you had a Stroke?', layout=Layout(width='max-content'))"
            ]
          },
          "metadata": {},
          "output_type": "display_data"
        },
        {
          "data": {
            "application/vnd.jupyter.widget-view+json": {
              "model_id": "8ac59c37e3eb41849b0750170f9a9efa",
              "version_major": 2,
              "version_minor": 0
            },
            "text/plain": [
              "RadioButtons(options={'No': 0, 'Yes': 1}, value=0)"
            ]
          },
          "metadata": {},
          "output_type": "display_data"
        },
        {
          "data": {
            "application/vnd.jupyter.widget-view+json": {
              "model_id": "cbbd761edff545b9bc406a84d7f60fa1",
              "version_major": 2,
              "version_minor": 0
            },
            "text/plain": [
              "Label(value='Heart Disease or Attack (CHD or MI)', layout=Layout(width='max-content'))"
            ]
          },
          "metadata": {},
          "output_type": "display_data"
        },
        {
          "data": {
            "application/vnd.jupyter.widget-view+json": {
              "model_id": "a168c6ba926f499280dd08e2e774e7b4",
              "version_major": 2,
              "version_minor": 0
            },
            "text/plain": [
              "RadioButtons(options={'No': 0, 'Yes': 1}, value=0)"
            ]
          },
          "metadata": {},
          "output_type": "display_data"
        },
        {
          "data": {
            "application/vnd.jupyter.widget-view+json": {
              "model_id": "e4f383f93c6e4c6d8b5b7672132219cf",
              "version_major": 2,
              "version_minor": 0
            },
            "text/plain": [
              "Label(value='General Health scale :', layout=Layout(width='max-content'))"
            ]
          },
          "metadata": {},
          "output_type": "display_data"
        },
        {
          "data": {
            "application/vnd.jupyter.widget-view+json": {
              "model_id": "abe211aeac594fe496ba9c7b7fc7ec33",
              "version_major": 2,
              "version_minor": 0
            },
            "text/plain": [
              "FloatSlider(value=3.0, max=5.0, min=1.0, step=1.0)"
            ]
          },
          "metadata": {},
          "output_type": "display_data"
        },
        {
          "data": {
            "application/vnd.jupyter.widget-view+json": {
              "model_id": "108e7fa9daf24aebaeeb3165a36b7936",
              "version_major": 2,
              "version_minor": 0
            },
            "text/plain": [
              "Label(value='How many past days was your Mental Health not good?(0 to 9 days= 0, 10 to 20 days=1, 20 to 31 day…"
            ]
          },
          "metadata": {},
          "output_type": "display_data"
        },
        {
          "data": {
            "application/vnd.jupyter.widget-view+json": {
              "model_id": "779c0ace376946539e0a843ee666b5d8",
              "version_major": 2,
              "version_minor": 0
            },
            "text/plain": [
              "FloatSlider(value=0.0, max=2.0, step=1.0)"
            ]
          },
          "metadata": {},
          "output_type": "display_data"
        },
        {
          "data": {
            "application/vnd.jupyter.widget-view+json": {
              "model_id": "34be4a575d3c42fab1cb726f2411bde7",
              "version_major": 2,
              "version_minor": 0
            },
            "text/plain": [
              "Label(value='How many past days was your Physical Health not good?(0 to 9 days= 0, 10 to 20 days=1, 20 to 31 d…"
            ]
          },
          "metadata": {},
          "output_type": "display_data"
        },
        {
          "data": {
            "application/vnd.jupyter.widget-view+json": {
              "model_id": "a588fced3f1141fe9a1d756674b91765",
              "version_major": 2,
              "version_minor": 0
            },
            "text/plain": [
              "FloatSlider(value=0.0, max=2.0, step=1.0)"
            ]
          },
          "metadata": {},
          "output_type": "display_data"
        },
        {
          "data": {
            "application/vnd.jupyter.widget-view+json": {
              "model_id": "3331ba8943ee4d388cac45bbfff8237b",
              "version_major": 2,
              "version_minor": 0
            },
            "text/plain": [
              "Label(value='Do you have Difficulty Walking or climbing stairs?', layout=Layout(width='max-content'))"
            ]
          },
          "metadata": {},
          "output_type": "display_data"
        },
        {
          "data": {
            "application/vnd.jupyter.widget-view+json": {
              "model_id": "9e0a6e30dc464a508ecd47189d2c143f",
              "version_major": 2,
              "version_minor": 0
            },
            "text/plain": [
              "RadioButtons(options={'No': 0, 'Yes': 1}, value=0)"
            ]
          },
          "metadata": {},
          "output_type": "display_data"
        },
        {
          "data": {
            "application/vnd.jupyter.widget-view+json": {
              "model_id": "207339d2dcf7457c8e31531b63dcd9e9",
              "version_major": 2,
              "version_minor": 0
            },
            "text/plain": [
              "Label(value='Physical Activity in past 30 days, not incl job', layout=Layout(width='max-content'))"
            ]
          },
          "metadata": {},
          "output_type": "display_data"
        },
        {
          "data": {
            "application/vnd.jupyter.widget-view+json": {
              "model_id": "08afcf50856f4308b04505eb01646040",
              "version_major": 2,
              "version_minor": 0
            },
            "text/plain": [
              "RadioButtons(options={'No': 0, 'Yes': 1}, value=0)"
            ]
          },
          "metadata": {},
          "output_type": "display_data"
        },
        {
          "data": {
            "application/vnd.jupyter.widget-view+json": {
              "model_id": "e35aa178d85143b69b8c7c755fa32af2",
              "version_major": 2,
              "version_minor": 0
            },
            "text/plain": [
              "Label(value='Have any kind of health care coverage, including health insurance, prepaid plans such as HMO, etc…"
            ]
          },
          "metadata": {},
          "output_type": "display_data"
        },
        {
          "data": {
            "application/vnd.jupyter.widget-view+json": {
              "model_id": "af994828813c415babf59f63288a03a0",
              "version_major": 2,
              "version_minor": 0
            },
            "text/plain": [
              "RadioButtons(options={'No': 0, 'Yes': 1}, value=0)"
            ]
          },
          "metadata": {},
          "output_type": "display_data"
        },
        {
          "data": {
            "application/vnd.jupyter.widget-view+json": {
              "model_id": "c763c015772047a28e7ad6f414b83e82",
              "version_major": 2,
              "version_minor": 0
            },
            "text/plain": [
              "Label(value='Was there a time in the past 12 months when you needed to see a doctor but could not because of c…"
            ]
          },
          "metadata": {},
          "output_type": "display_data"
        },
        {
          "data": {
            "application/vnd.jupyter.widget-view+json": {
              "model_id": "046bd1b9b6fd429283bedc15adf8f57a",
              "version_major": 2,
              "version_minor": 0
            },
            "text/plain": [
              "RadioButtons(options={'No': 0, 'Yes': 1}, value=0)"
            ]
          },
          "metadata": {},
          "output_type": "display_data"
        },
        {
          "data": {
            "application/vnd.jupyter.widget-view+json": {
              "model_id": "4384d2bb27594bb1b502d51cbfc5179a",
              "version_major": 2,
              "version_minor": 0
            },
            "text/plain": [
              "Label(value='Eat 1 Fruit or more per day', layout=Layout(width='max-content'))"
            ]
          },
          "metadata": {},
          "output_type": "display_data"
        },
        {
          "data": {
            "application/vnd.jupyter.widget-view+json": {
              "model_id": "aefee56cc26d457ab44f2b5488a0597e",
              "version_major": 2,
              "version_minor": 0
            },
            "text/plain": [
              "RadioButtons(options={'No': 0, 'Yes': 1}, value=0)"
            ]
          },
          "metadata": {},
          "output_type": "display_data"
        },
        {
          "data": {
            "application/vnd.jupyter.widget-view+json": {
              "model_id": "b9406ca71a0948e7896cb54024633f44",
              "version_major": 2,
              "version_minor": 0
            },
            "text/plain": [
              "Label(value='Eat Veggies 1 or more per day', layout=Layout(width='max-content'))"
            ]
          },
          "metadata": {},
          "output_type": "display_data"
        },
        {
          "data": {
            "application/vnd.jupyter.widget-view+json": {
              "model_id": "d26cb7bfc62b4f8e8fef24c1a3cfab20",
              "version_major": 2,
              "version_minor": 0
            },
            "text/plain": [
              "RadioButtons(options={'No': 0, 'Yes': 1}, value=0)"
            ]
          },
          "metadata": {},
          "output_type": "display_data"
        },
        {
          "data": {
            "application/vnd.jupyter.widget-view+json": {
              "model_id": "ab6e51db618544acbbafad2b8d06c979",
              "version_major": 2,
              "version_minor": 0
            },
            "text/plain": [
              "Label(value='Income level scale 1-8:(1 = less than 10,000$ 5 = less than 35,000$ 11 = 200,000$ or more.)', lay…"
            ]
          },
          "metadata": {},
          "output_type": "display_data"
        },
        {
          "data": {
            "application/vnd.jupyter.widget-view+json": {
              "model_id": "d5aab9bfa9d14db5a1e78624bf1a3a08",
              "version_major": 2,
              "version_minor": 0
            },
            "text/plain": [
              "FloatSlider(value=8.0, max=11.0, min=1.0, step=1.0)"
            ]
          },
          "metadata": {},
          "output_type": "display_data"
        },
        {
          "data": {
            "application/vnd.jupyter.widget-view+json": {
              "model_id": "a9f19d9b481447499dcec323327afc19",
              "version_major": 2,
              "version_minor": 0
            },
            "text/plain": [
              "Label(value='Education level:scale 1-6: (1 = Never attended school or only kindergarten 2 = Grades 1 through 8…"
            ]
          },
          "metadata": {},
          "output_type": "display_data"
        },
        {
          "data": {
            "application/vnd.jupyter.widget-view+json": {
              "model_id": "71475f45bc2f44239a25cd00a7075c70",
              "version_major": 2,
              "version_minor": 0
            },
            "text/plain": [
              "FloatSlider(value=3.0, max=6.0, min=1.0, step=1.0)"
            ]
          },
          "metadata": {},
          "output_type": "display_data"
        },
        {
          "data": {
            "application/vnd.jupyter.widget-view+json": {
              "model_id": "c424a56ab4f54c908c54daa5bb06e9db",
              "version_major": 2,
              "version_minor": 0
            },
            "text/plain": [
              "Button(description='Predict Patient Risk', style=ButtonStyle())"
            ]
          },
          "metadata": {},
          "output_type": "display_data"
        },
        {
          "data": {
            "application/vnd.jupyter.widget-view+json": {
              "model_id": "cc8744f50e2b411abd86616b4bfb35ee",
              "version_major": 2,
              "version_minor": 0
            },
            "text/plain": [
              "Output()"
            ]
          },
          "metadata": {},
          "output_type": "display_data"
        }
      ],
      "source": [
        "# USER INTERFACE: form for input for patient prediction\n",
        "import ipywidgets as widgets\n",
        "\n",
        "# 'features_dict' is a dictionary mapping feature to description\n",
        "features_dict = {\n",
        "    \"Sex\": \"Sex:\",\n",
        "    \"Age\": \"Age category (1 = Age 18 - 24, 2 = Age 25 to 29, 3 = Age 30 to 34, 4 = Age 35 to 39, 5 = Age 40 to 44, 6 = Age 45 to 49, 7 = Age 50 to 54, 8 = Age 55 to 59, 9 = Age 60 to 64, 10 = Age 65 to 69, 11 = Age 70 to 74, 12 = Age 75 to 79, 13 = Age 80 or older):\",\n",
        "    \"BMI\": \"Body Mass Index (BMI is less than 18.5= 1, BMI is 18.6 to 24.9= 2, BMI is 25.0 to 29.9= 3, 30.0 or higher= 4):\",\n",
        "    \"HighBP\": \"High Blood Pressure\",\n",
        "    \"HighChol\": \"High Cholesterol\",\n",
        "    \"CholCheck\": \"cholesterol check in 5 years\",\n",
        "    \"Smoker\": \"Have you smoked at least 100 cigarettes in your life?\",\n",
        "    \"HvyAlcoholConsump\": \"Heavy drinkers (drinks <14 for men, <7 for women per week\",\n",
        "    \"Stroke\": \"(Ever told) you had a Stroke?\",\n",
        "    \"HeartDiseaseorAttack\": \"Heart Disease or Attack (CHD or MI)\",\n",
        "    \"GenHlth\": \"General Health scale :\",\n",
        "    \"MentHlth\": \"How many past days was your Mental Health not good?(0 to 9 days= 0, 10 to 20 days=1, 20 to 31 days=2 ):\",\n",
        "    \"PhysHlth\": \"How many past days was your Physical Health not good?(0 to 9 days= 0, 10 to 20 days=1, 20 to 31 days=2 ):\",\n",
        "    \"DiffWalk\": \"Do you have Difficulty Walking or climbing stairs?\",\n",
        "    \"PhysActivity\": \"Physical Activity in past 30 days, not incl job\",\n",
        "    \"AnyHealthcare\": \"Have any kind of health care coverage, including health insurance, prepaid plans such as HMO, etc.\",\n",
        "    \"NoDocbcCost\": \"Was there a time in the past 12 months when you needed to see a doctor but could not because of cost? \",\n",
        "    \"Fruits\": \"Eat 1 Fruit or more per day\",\n",
        "    \"Veggies\": \"Eat Veggies 1 or more per day\",\n",
        "    \"Income\": \"Income level scale 1-8:(1 = less than 10,000$ 5 = less than 35,000$ 11 = 200,000$ or more.)\",\n",
        "    \"Education\": \"Education level:scale 1-6: (1 = Never attended school or only kindergarten 2 = Grades 1 through 8, 3 = Grades 9 - 11 (Some high school), 4 = Grade 12 or GED (High school graduate), 5 = College 1 year to 3 years (Some college or technical school), 6 = College 4 years or more (College graduate))\",\n",
        "}\n",
        "widgets_dict = {}\n",
        "\n",
        "# Create widgets for each feature\n",
        "for item in features_dict.keys():\n",
        "    if item in [\n",
        "        \"HighBP\",\n",
        "        \"HighChol\",\n",
        "        \"CholCheck\",\n",
        "        \"Smoker\",\n",
        "        \"Stroke\",\n",
        "        \"HeartDiseaseorAttack\",\n",
        "        \"PhysActivity\",\n",
        "        \"AnyHealthcare\",\n",
        "        \"NoDocbcCost\",\n",
        "        \"Fruits\",\n",
        "        \"Veggies\",\n",
        "        \"HvyAlcoholConsump\",\n",
        "        \"DiffWalk\",\n",
        "    ]:\n",
        "        # Binary features: create a dropdown with options 'Yes' and 'No'\n",
        "        widgets_dict[item + \"_label\"] = widgets.Label(\n",
        "            features_dict.get(item), layout={\"width\": \"max-content\"}\n",
        "        )\n",
        "        widgets_dict[item] = widgets.RadioButtons(\n",
        "            options={\"No\": 0, \"Yes\": 1},\n",
        "            value=0,\n",
        "        )\n",
        "    if item in [\"Sex\"]:\n",
        "        # Create a dropdown with options 'Male' and 'Female'\n",
        "        widgets_dict[item + \"_label\"] = widgets.Label(\n",
        "            features_dict.get(item), layout={\"width\": \"max-content\"}\n",
        "        )\n",
        "        widgets_dict[item] = widgets.Dropdown(\n",
        "            options=[(\"Female\", 0), (\"Male\", 1)],\n",
        "            value=0,\n",
        "        )\n",
        "    # Numerical features: create float sliders\n",
        "    if item in [\"BMI\"]:\n",
        "        widgets_dict[item + \"_label\"] = widgets.Label(\n",
        "            features_dict.get(item), layout={\"width\": \"max-content\"}\n",
        "        )\n",
        "        widgets_dict[item] = widgets.FloatSlider(\n",
        "            value=0,\n",
        "            min=1,\n",
        "            max=4,\n",
        "            step=1,\n",
        "        )\n",
        "    if item in [\"GenHlth\"]:\n",
        "        widgets_dict[item + \"_label\"] = widgets.Label(\n",
        "            features_dict.get(item), layout={\"width\": \"max-content\"}\n",
        "        )\n",
        "        widgets_dict[item] = widgets.FloatSlider(\n",
        "            value=3,\n",
        "            min=1,\n",
        "            max=5,\n",
        "            step=1,\n",
        "        )\n",
        "    if item in [\"MentHlth\", \"PhysHlth\"]:\n",
        "        widgets_dict[item + \"_label\"] = widgets.Label(\n",
        "            features_dict.get(item), layout={\"width\": \"max-content\"}\n",
        "        )\n",
        "        widgets_dict[item] = widgets.FloatSlider(\n",
        "            value=0,\n",
        "            min=0,\n",
        "            max=2,\n",
        "            step=1,\n",
        "        )\n",
        "    if item in [\"Age\"]:\n",
        "        widgets_dict[item + \"_label\"] = widgets.Label(\n",
        "            features_dict.get(item), layout={\"width\": \"max-content\"}\n",
        "        )\n",
        "        widgets_dict[item] = widgets.FloatSlider(\n",
        "            value=8,\n",
        "            min=1,\n",
        "            max=13,\n",
        "            step=1,\n",
        "        )\n",
        "\n",
        "    if item in [\"Income\"]:\n",
        "        widgets_dict[item + \"_label\"] = widgets.Label(\n",
        "            features_dict.get(item), layout={\"width\": \"max-content\"}\n",
        "        )\n",
        "        widgets_dict[item] = widgets.FloatSlider(\n",
        "            value=8,\n",
        "            min=1,\n",
        "            max=11,\n",
        "            step=1,\n",
        "        )\n",
        "\n",
        "    if item in [\"Education\"]:\n",
        "        widgets_dict[item + \"_label\"] = widgets.Label(\n",
        "            features_dict.get(item), layout={\"width\": \"max-content\"}\n",
        "        )\n",
        "        widgets_dict[item] = widgets.FloatSlider(\n",
        "            value=3,\n",
        "            min=1,\n",
        "            max=6,\n",
        "            step=1,\n",
        "        )\n",
        "\n",
        "# Button to make prediction\n",
        "predict_btn = widgets.Button(description=\"Predict Patient Risk\")\n",
        "\n",
        "# Output widget to display prediction result\n",
        "output = widgets.Output()\n",
        "\n",
        "\n",
        "def on_predict_btn_clicked(b):\n",
        "    # Prepare the input for the model\n",
        "    input_data = [widgets_dict[feature].value for feature in features_dict.keys()]\n",
        "    input_data = np.array(input_data).reshape(1, -1)\n",
        "\n",
        "    # Create a DataFrame with input_data and assign column names using features\n",
        "    input_df = pd.DataFrame(input_data, columns=features_dict.keys())\n",
        "\n",
        "    # Define the desired order of columns\n",
        "    new_column_order = ['HighBP', 'HighChol', 'CholCheck', 'BMI', 'Smoker', 'Stroke', 'HeartDiseaseorAttack',\n",
        "                'PhysActivity','Fruits', 'Veggies', 'HvyAlcoholConsump', 'AnyHealthcare', 'NoDocbcCost',\n",
        "                'GenHlth', 'MentHlth', 'PhysHlth', 'DiffWalk', 'Sex', 'Age', 'Education', 'Income',\n",
        "                ]\n",
        "\n",
        "    # Reorder the columns of the DataFrame\n",
        "    input_df = input_df[new_column_order]\n",
        "\n",
        "    feature_list = []\n",
        "\n",
        "    HighBP = input_df['HighBP'].iloc[0]\n",
        "    HighChol = input_df['HighChol'].iloc[0]\n",
        "    CholCheck = input_df['CholCheck'].iloc[0]\n",
        "    BMI = input_df['BMI'].iloc[0]\n",
        "    Smoker = input_df['Smoker'].iloc[0]\n",
        "    Stroke = input_df['Stroke'].iloc[0]\n",
        "    HeartDiseaseorAttack = input_df['HeartDiseaseorAttack'].iloc[0]\n",
        "    PhysActivity = input_df['PhysActivity'].iloc[0]\n",
        "    Fruits = input_df['Fruits'].iloc[0]\n",
        "    Veggies = input_df['Veggies'].iloc[0]\n",
        "    HvyAlcoholConsump = input_df['HvyAlcoholConsump'].iloc[0]\n",
        "    AnyHealthcare = input_df['AnyHealthcare'].iloc[0]\n",
        "    NoDocbcCost = input_df['NoDocbcCost'].iloc[0]\n",
        "    GenHlth = input_df['GenHlth'].iloc[0]\n",
        "    MentHlth = input_df['MentHlth'].iloc[0]\n",
        "    PhysHlth = input_df['PhysHlth'].iloc[0]\n",
        "    DiffWalk = input_df['DiffWalk'].iloc[0]\n",
        "    Sex = input_df['Sex'].iloc[0]\n",
        "    Age = input_df['Age'].iloc[0]\n",
        "    Education = input_df['Education'].iloc[0]\n",
        "    Income = input_df['Income'].iloc[0]\n",
        "\n",
        "    HighBP_list = [1, 0]\n",
        "    HighChol_list = [1, 0]\n",
        "    CholCheck_list = [1, 0]\n",
        "    BMI_list = [1, 2, 3, 4]\n",
        "    Smoker_list = [1, 0]\n",
        "    Stroke_list = [1, 0]\n",
        "    HeartDiseaseorAttack_list = [1, 0]\n",
        "    PhysActivity_list = [1, 0]\n",
        "    Fruits_list = [1, 0]\n",
        "    Veggies_list = [1, 0]\n",
        "    HvyAlcoholConsump_list = [1, 0]\n",
        "    AnyHealthcare_list = [1, 0]\n",
        "    NoDocbcCost_list = [1, 0]\n",
        "    GenHlth_list = [1, 2, 3, 4, 5]\n",
        "    MentHlth_list = [0, 1, 2]\n",
        "    PhysHlth_list = [0, 1, 2]\n",
        "    DiffWalk_list = [1, 0]\n",
        "    Sex_list = [1, 0]\n",
        "    Age_list = [1, 2, 3, 4, 5, 6, 7, 8, 9, 10, 11, 12, 13]\n",
        "    Education_list = [1, 2, 3, 4, 5, 6]\n",
        "    Income_list = [1, 2, 3, 4, 5, 6, 7, 8, 9, 10, 11]\n",
        "\n",
        "    def col_match(lst, value):\n",
        "        for item in lst:\n",
        "            if item == value:\n",
        "                feature_list.append(1)\n",
        "            else:\n",
        "                feature_list.append(0)\n",
        "\n",
        "    col_match(HighBP_list, HighBP)\n",
        "    col_match(HighChol_list, HighChol)\n",
        "    col_match(CholCheck_list, CholCheck)\n",
        "    col_match(BMI_list, BMI)\n",
        "    col_match(Smoker_list, Smoker)\n",
        "    col_match(Stroke_list, Stroke)\n",
        "    col_match(HeartDiseaseorAttack_list, HeartDiseaseorAttack)\n",
        "    col_match(PhysActivity_list, PhysActivity)\n",
        "    col_match(Fruits_list, Fruits)\n",
        "    col_match(Veggies_list, Veggies)\n",
        "    col_match(HvyAlcoholConsump_list, HvyAlcoholConsump)\n",
        "    col_match(AnyHealthcare_list, AnyHealthcare)\n",
        "    col_match(NoDocbcCost_list, NoDocbcCost)\n",
        "    col_match(GenHlth_list, GenHlth)\n",
        "    col_match(MentHlth_list, MentHlth)\n",
        "    col_match(PhysHlth_list, PhysHlth)\n",
        "    col_match(DiffWalk_list, DiffWalk)\n",
        "    col_match(Sex_list, Sex)\n",
        "    col_match(Age_list, Age)\n",
        "    col_match(Education_list, Education)\n",
        "    col_match(Income_list, Income)\n",
        "\n",
        "    column_names = ['HighBP_0', 'HighBP_1', 'HighChol_0', 'HighChol_1', 'CholCheck_0', 'CholCheck_1', 'BMI_1', 'BMI_2', 'BMI_3', 'BMI_4', 'Smoker_0', 'Smoker_1', 'Stroke_0', 'Stroke_1', 'HeartDiseaseorAttack_0', 'HeartDiseaseorAttack_1', 'PhysActivity_0', 'PhysActivity_1', 'Fruits_0', 'Fruits_1', 'Veggies_0', 'Veggies_1', 'HvyAlcoholConsump_0', 'HvyAlcoholConsump_1', 'AnyHealthcare_0', 'AnyHealthcare_1', 'NoDocbcCost_0', 'NoDocbcCost_1', 'GenHlth_1', 'GenHlth_2', 'GenHlth_3', 'GenHlth_4', 'GenHlth_5', 'MentHlth_0', 'MentHlth_1', 'MentHlth_2', 'PhysHlth_0', 'PhysHlth_1', 'PhysHlth_2', 'DiffWalk_0', 'DiffWalk_1', 'Sex_0', 'Sex_1', 'Age_1', 'Age_2', 'Age_3', 'Age_4', 'Age_5', 'Age_6', 'Age_7', 'Age_8', 'Age_9', 'Age_10', 'Age_11', 'Age_12', 'Age_13', 'Education_1', 'Education_2', 'Education_3', 'Education_4', 'Education_5', 'Education_6', 'Income_1', 'Income_2', 'Income_3', 'Income_4', 'Income_5', 'Income_6', 'Income_7', 'Income_8', 'Income_9', 'Income_10', 'Income_11']\n",
        "\n",
        "    # Create a DataFrame with a single row using feature_list and specified column names\n",
        "    new_df = pd.DataFrame([feature_list], columns=column_names)\n",
        "\n",
        "    #### Make prediction ####\n",
        "    prediction = mylog_model.predict(new_df)\n",
        "\n",
        "    # Display prediction\n",
        "    with output:\n",
        "        output.clear_output()\n",
        "        if prediction[0] == 0:\n",
        "            print(\"Prediction: Not at risk of diabetes\")\n",
        "        elif prediction[0] == 1:\n",
        "            print(\"Prediction: Diabetes positive\")\n",
        "        elif prediction[0] == 2:\n",
        "            print(\"Prediction: At risk of diabetes\")\n",
        "\n",
        "predict_btn.on_click(on_predict_btn_clicked)\n",
        "\n",
        "# Display widgets\n",
        "for widget in widgets_dict.values():\n",
        "    display(widget)\n",
        "display(predict_btn, output)"
      ]
    },
    {
      "cell_type": "code",
      "execution_count": null,
      "id": "5dd18d51",
      "metadata": {
        "id": "5dd18d51"
      },
      "outputs": [],
      "source": []
    }
  ],
  "metadata": {
    "kernelspec": {
      "display_name": "Python 3 (ipykernel)",
      "language": "python",
      "name": "python3"
    },
    "language_info": {
      "codemirror_mode": {
        "name": "ipython",
        "version": 3
      },
      "file_extension": ".py",
      "mimetype": "text/x-python",
      "name": "python",
      "nbconvert_exporter": "python",
      "pygments_lexer": "ipython3",
      "version": "3.10.9"
    },
    "colab": {
      "provenance": [],
      "include_colab_link": true
    }
  },
  "nbformat": 4,
  "nbformat_minor": 5
}